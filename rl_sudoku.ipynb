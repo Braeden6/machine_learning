{
 "cells": [
  {
   "cell_type": "code",
   "execution_count": 50,
   "metadata": {},
   "outputs": [
    {
     "name": "stdout",
     "output_type": "stream",
     "text": [
      "Model: \"model_6\"\n",
      "_________________________________________________________________\n",
      " Layer (type)                Output Shape              Param #   \n",
      "=================================================================\n",
      " input_11 (InputLayer)       [(None, 3, 3)]            0         \n",
      "                                                                 \n",
      " flatten_6 (Flatten)         (None, 9)                 0         \n",
      "                                                                 \n",
      " dense_22 (Dense)            (None, 32)                320       \n",
      "                                                                 \n",
      " dense_23 (Dense)            (None, 32)                1056      \n",
      "                                                                 \n",
      " dense_24 (Dense)            (None, 10)                330       \n",
      "                                                                 \n",
      "=================================================================\n",
      "Total params: 1706 (6.66 KB)\n",
      "Trainable params: 1706 (6.66 KB)\n",
      "Non-trainable params: 0 (0.00 Byte)\n",
      "_________________________________________________________________\n"
     ]
    }
   ],
   "source": [
    "import tensorflow as tf\n",
    "from tensorflow.keras.layers import Flatten, Dense, Input\n",
    "from tensorflow.keras.models import Model\n",
    "import numpy as np\n",
    "\n",
    "# Define a simple sequential model\n",
    "def create_model():\n",
    "    inputs = Input(shape=(3,3))\n",
    "    model = Flatten()(inputs)\n",
    "    model = Dense(32, activation='relu')(model)\n",
    "    model = Dense(32, activation='relu')(model)\n",
    "    output = Dense(10, activation='sigmoid')(model)\n",
    "\n",
    "    model = Model(inputs, output)\n",
    "    return model\n",
    "\n",
    "# Create a basic model instance\n",
    "model = create_model()\n",
    "model.summary()\n",
    "\n"
   ]
  },
  {
   "cell_type": "code",
   "execution_count": 51,
   "metadata": {},
   "outputs": [],
   "source": [
    "model.compile(optimizer='adam', \n",
    "              loss='sparse_categorical_crossentropy', \n",
    "              metrics=['accuracy'])"
   ]
  },
  {
   "cell_type": "code",
   "execution_count": 61,
   "metadata": {},
   "outputs": [
    {
     "name": "stdout",
     "output_type": "stream",
     "text": [
      "1/1 [==============================] - 0s 19ms/step\n",
      "[0.5 0.5 0.5 0.5 0.5 0.5 0.5 0.5 0.5 0.5]\n"
     ]
    },
    {
     "ename": "AttributeError",
     "evalue": "module 'tensorflow' has no attribute 'tensor'",
     "output_type": "error",
     "traceback": [
      "\u001b[1;31m---------------------------------------------------------------------------\u001b[0m",
      "\u001b[1;31mAttributeError\u001b[0m                            Traceback (most recent call last)",
      "Cell \u001b[1;32mIn[61], line 28\u001b[0m\n\u001b[0;32m     25\u001b[0m move_prob \u001b[39m=\u001b[39m model\u001b[39m.\u001b[39mpredict(np\u001b[39m.\u001b[39marray([board_state]))[\u001b[39m0\u001b[39m]\n\u001b[0;32m     27\u001b[0m \u001b[39mprint\u001b[39m(move_prob)\n\u001b[1;32m---> 28\u001b[0m \u001b[39mprint\u001b[39m(tf\u001b[39m.\u001b[39;49mtensor(move_prob)  \u001b[39m*\u001b[39m game\u001b[39m.\u001b[39mboard \u001b[39m==\u001b[39m \u001b[39m0\u001b[39m)\n\u001b[0;32m     29\u001b[0m move_prob \u001b[39m/\u001b[39m\u001b[39m=\u001b[39m np\u001b[39m.\u001b[39msum(move_prob)  \u001b[39m# Re-normalize probabilities.\u001b[39;00m\n\u001b[0;32m     31\u001b[0m \u001b[39m# Sample a move and apply it.\u001b[39;00m\n",
      "\u001b[1;31mAttributeError\u001b[0m: module 'tensorflow' has no attribute 'tensor'"
     ]
    }
   ],
   "source": [
    "class TicTacToeGame:\n",
    "    def __init__(self):\n",
    "        self.board = self.generate_board()\n",
    "\n",
    "    def generate_board(self):\n",
    "        return tf.zeros((3,3), dtype=tf.int32)\n",
    "\n",
    "    def is_over(self):\n",
    "        return tf.reduce_any(self.board != 0)\n",
    "    \n",
    "    def legal_moves(self):\n",
    "        legal_moves_mask = tf.cast(self.board == 0, tf.int32)\n",
    "        return tf.reshape(legal_moves_mask, [-1])\n",
    "\n",
    "\n",
    "game_data = []\n",
    "\n",
    "for _ in range(100):  # Play 100 games\n",
    "    game = TicTacToeGame()\n",
    "    game_history = []\n",
    "    \n",
    "    while not game.is_over():\n",
    "        # Assume model predicts a probability distribution over moves.\n",
    "        board_state = np.array(game.board)\n",
    "        move_prob = model.predict(np.array([board_state]))[0]\n",
    "\n",
    "        move_prob *= game.legal_moves()\n",
    "        move_prob /= np.sum(move_prob)  # Re-normalize probabilities.\n",
    "        \n",
    "        # Sample a move and apply it.\n",
    "        move = np.random.choice(9, p=move_prob)  \n",
    "        game.make_move(move)\n",
    "        \n",
    "        # Store state and action.\n",
    "        game_history.append((board_state, move))\n",
    "    \n",
    "    \n",
    "    # Store (state, action, reward) for all steps in game.\n",
    "    for state, action in game_history:\n",
    "        game_data.append((state, action))\n",
    "        \n",
    "\n"
   ]
  },
  {
   "cell_type": "code",
   "execution_count": 42,
   "metadata": {},
   "outputs": [
    {
     "name": "stdout",
     "output_type": "stream",
     "text": [
      "[]\n",
      "[]\n"
     ]
    }
   ],
   "source": [
    "print(game_history)\n",
    "print(game_data)"
   ]
  }
 ],
 "metadata": {
  "kernelspec": {
   "display_name": ".venv",
   "language": "python",
   "name": "python3"
  },
  "language_info": {
   "codemirror_mode": {
    "name": "ipython",
    "version": 3
   },
   "file_extension": ".py",
   "mimetype": "text/x-python",
   "name": "python",
   "nbconvert_exporter": "python",
   "pygments_lexer": "ipython3",
   "version": "3.9.6"
  },
  "orig_nbformat": 4
 },
 "nbformat": 4,
 "nbformat_minor": 2
}
