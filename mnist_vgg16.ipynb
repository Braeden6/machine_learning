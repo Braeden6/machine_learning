{
 "cells": [
  {
   "cell_type": "code",
   "execution_count": 1,
   "metadata": {},
   "outputs": [],
   "source": [
    "from tensorflow.keras.datasets import mnist\n",
    "(x_train, y_train), (x_test, y_test) = mnist.load_data()\n"
   ]
  },
  {
   "cell_type": "code",
   "execution_count": 2,
   "metadata": {},
   "outputs": [
    {
     "name": "stdout",
     "output_type": "stream",
     "text": [
      "(28, 28)\n"
     ]
    }
   ],
   "source": [
    "print(x_train[0].shape)"
   ]
  },
  {
   "cell_type": "code",
   "execution_count": 3,
   "metadata": {},
   "outputs": [
    {
     "data": {
      "image/png": "[encoded data removed]",
      "text/plain": [
       "<Figure size 640x480 with 1 Axes>"
      ]
     },
     "metadata": {},
     "output_type": "display_data"
    }
   ],
   "source": [
    "import matplotlib.pyplot as plt\n",
    "plt.imshow(x_train[0], cmap='gray')\n",
    "plt.show()\n"
   ]
  },
  {
   "cell_type": "code",
   "execution_count": 4,
   "metadata": {},
   "outputs": [],
   "source": [
    "import numpy as np\n",
    "np.random.seed(0)\n",
    "indices = np.arange(x_train.shape[0])\n",
    "np.random.shuffle(indices)\n",
    "x_train, x_val = x_train[indices[:int(0.8*len(x_train))]], x_train[indices[int(0.8*len(x_train)):]]\n",
    "y_train, y_val = y_train[indices[:int(0.8*len(y_train))]], y_train[indices[int(0.8*len(y_train)):]]\n",
    "\n"
   ]
  },
  {
   "cell_type": "code",
   "execution_count": 14,
   "metadata": {},
   "outputs": [],
   "source": [
    "from tensorflow.keras.models import Model\n",
    "from tensorflow.keras.layers import (\n",
    "        Input, \n",
    "        Conv2D, \n",
    "        AveragePooling2D, \n",
    "        BatchNormalization,\n",
    "        Flatten,\n",
    "        Dense,\n",
    "        Add\n",
    "    )\n",
    "\n",
    "\n",
    "def residual_block(input, f=3, filters=64):\n",
    "    conv = Conv2D(filters, (f, f), padding='same')(input)\n",
    "    conv = BatchNormalization()(conv)\n",
    "    residual = Add()([input, conv])\n",
    "\n",
    "    return residual\n"
   ]
  },
  {
   "cell_type": "code",
   "execution_count": 25,
   "metadata": {},
   "outputs": [
    {
     "name": "stdout",
     "output_type": "stream",
     "text": [
      "Model: \"model_6\"\n",
      "__________________________________________________________________________________________________\n",
      " Layer (type)                Output Shape                 Param #   Connected to                  \n",
      "==================================================================================================\n",
      " input_12 (InputLayer)       [(None, 28, 28, 1)]          0         []                            \n",
      "                                                                                                  \n",
      " conv2d_23 (Conv2D)          (None, 28, 28, 32)           2080      ['input_12[0][0]']            \n",
      "                                                                                                  \n",
      " conv2d_24 (Conv2D)          (None, 28, 28, 32)           36896     ['conv2d_23[0][0]']           \n",
      "                                                                                                  \n",
      " batch_normalization_16 (Ba  (None, 28, 28, 32)           128       ['conv2d_24[0][0]']           \n",
      " tchNormalization)                                                                                \n",
      "                                                                                                  \n",
      " add_20 (Add)                (None, 28, 28, 32)           0         ['conv2d_23[0][0]',           \n",
      "                                                                     'batch_normalization_16[0][0]\n",
      "                                                                    ']                            \n",
      "                                                                                                  \n",
      " average_pooling2d_15 (Aver  (None, 14, 14, 32)           0         ['add_20[0][0]']              \n",
      " agePooling2D)                                                                                    \n",
      "                                                                                                  \n",
      " conv2d_25 (Conv2D)          (None, 14, 14, 32)           16416     ['average_pooling2d_15[0][0]']\n",
      "                                                                                                  \n",
      " batch_normalization_17 (Ba  (None, 14, 14, 32)           128       ['conv2d_25[0][0]']           \n",
      " tchNormalization)                                                                                \n",
      "                                                                                                  \n",
      " add_21 (Add)                (None, 14, 14, 32)           0         ['average_pooling2d_15[0][0]',\n",
      "                                                                     'batch_normalization_17[0][0]\n",
      "                                                                    ']                            \n",
      "                                                                                                  \n",
      " average_pooling2d_16 (Aver  (None, 7, 7, 32)             0         ['add_21[0][0]']              \n",
      " agePooling2D)                                                                                    \n",
      "                                                                                                  \n",
      " conv2d_26 (Conv2D)          (None, 7, 7, 32)             16416     ['average_pooling2d_16[0][0]']\n",
      "                                                                                                  \n",
      " batch_normalization_18 (Ba  (None, 7, 7, 32)             128       ['conv2d_26[0][0]']           \n",
      " tchNormalization)                                                                                \n",
      "                                                                                                  \n",
      " add_22 (Add)                (None, 7, 7, 32)             0         ['average_pooling2d_16[0][0]',\n",
      "                                                                     'batch_normalization_18[0][0]\n",
      "                                                                    ']                            \n",
      "                                                                                                  \n",
      " average_pooling2d_17 (Aver  (None, 3, 3, 32)             0         ['add_22[0][0]']              \n",
      " agePooling2D)                                                                                    \n",
      "                                                                                                  \n",
      " flatten_6 (Flatten)         (None, 288)                  0         ['average_pooling2d_17[0][0]']\n",
      "                                                                                                  \n",
      " dense_12 (Dense)            (None, 60)                   17340     ['flatten_6[0][0]']           \n",
      "                                                                                                  \n",
      " dense_13 (Dense)            (None, 10)                   610       ['dense_12[0][0]']            \n",
      "                                                                                                  \n",
      "==================================================================================================\n",
      "Total params: 90142 (352.12 KB)\n",
      "Trainable params: 89950 (351.37 KB)\n",
      "Non-trainable params: 192 (768.00 Byte)\n",
      "__________________________________________________________________________________________________\n",
      "None\n"
     ]
    }
   ],
   "source": [
    "inputs = Input(shape=(28, 28, 1))\n",
    "conv = Conv2D(32, (8, 8), padding='same')(inputs)\n",
    "res1 = residual_block(conv,f=6,filters=32)\n",
    "avg_pool = AveragePooling2D(pool_size=(2, 2), strides=(2, 2))(res1)\n",
    "res2 = residual_block(avg_pool,f=4,filters=32)\n",
    "avg_pool2 = AveragePooling2D(pool_size=(2, 2), strides=(2, 2))(res2)\n",
    "res3 = residual_block(avg_pool2,f=4,filters=32)\n",
    "avg_pool3 = AveragePooling2D(pool_size=(2, 2), strides=(2, 2))(res3)\n",
    "flat = Flatten()(avg_pool3)\n",
    "dense1 = Dense(60, activation='relu')(flat)\n",
    "dense2 = Dense(10, activation='softmax')(dense1)\n",
    "model = Model(inputs=inputs, outputs=dense2)\n",
    "print(model.summary())\n"
   ]
  },
  {
   "cell_type": "code",
   "execution_count": 27,
   "metadata": {},
   "outputs": [
    {
     "name": "stdout",
     "output_type": "stream",
     "text": [
      "Epoch 1/2\n",
      "1500/1500 [==============================] - 177s 117ms/step - loss: 0.4372 - accuracy: 0.8762 - val_loss: 0.3520 - val_accuracy: 0.9012\n",
      "Epoch 2/2\n",
      "1500/1500 [==============================] - 187s 124ms/step - loss: 0.2665 - accuracy: 0.9232 - val_loss: 0.2347 - val_accuracy: 0.9333\n",
      "Training Accuracy: 0.9232291579246521\n",
      "Testing Accuracy: 0.9333333373069763\n"
     ]
    }
   ],
   "source": [
    "model.compile(optimizer='adam', \n",
    "              loss='sparse_categorical_crossentropy', \n",
    "              metrics=['accuracy'])\n",
    "history = model.fit(x_train, y_train, epochs=2, validation_data=(x_val, y_val))\n",
    "train_accuracy = history.history['accuracy']\n",
    "test_accuracy = history.history['val_accuracy']\n",
    "print(f'Training Accuracy: {train_accuracy[-1]}')\n",
    "print(f'Testing Accuracy: {test_accuracy[-1]}')\n",
    "\n",
    "\n"
   ]
  }
 ],
 "metadata": {
  "kernelspec": {
   "display_name": ".venv",
   "language": "python",
   "name": "python3"
  },
  "language_info": {
   "codemirror_mode": {
    "name": "ipython",
    "version": 3
   },
   "file_extension": ".py",
   "mimetype": "text/x-python",
   "name": "python",
   "nbconvert_exporter": "python",
   "pygments_lexer": "ipython3",
   "version": "3.9.6"
  },
  "orig_nbformat": 4
 },
 "nbformat": 4,
 "nbformat_minor": 2
}
